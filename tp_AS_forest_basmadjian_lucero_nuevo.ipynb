{
 "cells": [
  {
   "cell_type": "markdown",
   "metadata": {},
   "source": [
    "# DIPLODATOS 2020\n",
    "# Aprendizaje Supervisado - Trabajo practico final\n",
    "\n",
    "Detalles del objetivo del TP en el sgte link https://github.com/DiploDatos/AprendizajeSupervisado/tree/master/practico\n",
    "\n",
    "### Grupo: Martin Basmadjian - Adrian Lucero"
   ]
  },
  {
   "cell_type": "code",
   "execution_count": 52,
   "metadata": {
    "id": "K_7ylvpxE1-j"
   },
   "outputs": [],
   "source": [
    "import numpy as np\n",
    "import pandas as pd\n",
    "import seaborn as sns\n",
    "import matplotlib.pyplot as plt\n",
    "\n",
    "from sklearn.model_selection    import train_test_split\n",
    "from sklearn.ensemble           import RandomForestClassifier, VotingClassifier, GradientBoostingClassifier, AdaBoostClassifier\n",
    "from sklearn.model_selection    import GridSearchCV, RandomizedSearchCV\n",
    "from sklearn.naive_bayes        import GaussianNB\n",
    "\n",
    "from sklearn.linear_model       import SGDClassifier, Perceptron\n",
    "from sklearn.dummy              import DummyClassifier\n",
    "from sklearn.tree               import DecisionTreeClassifier\n",
    "from sklearn.neighbors          import KNeighborsClassifier\n",
    "from sklearn.metrics            import accuracy_score\n",
    "\n",
    "import math\n",
    "from scipy import stats"
   ]
  },
  {
   "cell_type": "markdown",
   "metadata": {},
   "source": [
    "### PARTE 1: Armado del dataset"
   ]
  },
  {
   "cell_type": "code",
   "execution_count": 53,
   "metadata": {
    "id": "Ff9bC_4kE9oW"
   },
   "outputs": [],
   "source": [
    "def first_n_digits(num, n):\n",
    "    return num // 10 ** (int(math.log(num, 10)) - n + 1)"
   ]
  },
  {
   "cell_type": "code",
   "execution_count": 54,
   "metadata": {
    "id": "9MTB_gJWFAfQ"
   },
   "outputs": [],
   "source": [
    "#transformamos los datos con la función utilizada en la notebook \"baseline\"\n",
    "def transform_data(train_data_fname, test_data_fname):\n",
    "    df_train = pd.read_csv(train_data_fname)\n",
    "    df_train['is_train_set'] = 1\n",
    "    df_test = pd.read_csv(test_data_fname)\n",
    "    df_test['is_train_set'] = 0\n",
    "\n",
    "    # we  get the TripType for the train set. To do that, we group by VisitNumber and\n",
    "    # then we get the max (or min or avg)\n",
    "    y = df_train.groupby([\"VisitNumber\", \"Weekday\"], as_index=False).max().TripType\n",
    "\n",
    "    # we remove the TripType now, and concat training and testing data\n",
    "    # the concat is done so that we have the same columns for both datasets\n",
    "    # after one-hot encoding\n",
    "    df_train = df_train.drop(\"TripType\", axis=1)\n",
    "    df = pd.concat([df_train, df_test])\n",
    "    \n",
    "#    new_upc = []\n",
    "#    for i in df['Upc']:\n",
    "#        if not np.isnan(i):\n",
    "#            i = first_n_digits(i, 4)\n",
    "#        new_upc.append(i)\n",
    "#    df['Upc'] = new_upc\n",
    "        \n",
    "    # one-hot encoding for the DepartmentDescription\n",
    "    df = pd.get_dummies(df, columns=[\"DepartmentDescription\"], dummy_na=True)\n",
    "    \n",
    "    \n",
    "\n",
    "    # now we add the groupby values\n",
    "    df = df.groupby([\"VisitNumber\", \"Weekday\"], as_index=False).sum()\n",
    "    \n",
    "    # finally, we do one-hot encoding for the Weekday\n",
    "    df = pd.get_dummies(df, columns=[\"Weekday\"], dummy_na=True)\n",
    "\n",
    "    # get train and test back\n",
    "    print(df_train)\n",
    "    df_train = df[df.is_train_set != 0]\n",
    "    df_test = df[df.is_train_set == 0]\n",
    "    \n",
    "    X = df_train.drop([\"is_train_set\"], axis=1)\n",
    "    yy = None\n",
    "    XX = df_test.drop([\"is_train_set\"], axis=1)\n",
    "\n",
    "    return X, y, XX, yy"
   ]
  },
  {
   "cell_type": "code",
   "execution_count": 55,
   "metadata": {
    "id": "ZtdkXKjYcTjN"
   },
   "outputs": [],
   "source": [
    "def print_results(df, dict, rows=5):\n",
    "  df = df.sort_values(by='rank_test_score').head(rows)\n",
    "  param = ['rank_test_score', 'mean_test_score']\n",
    "  for i in dict.keys():\n",
    "    param.append('param_'+str(i))\n",
    "  new_df = df.loc[:, param]\n",
    "  return new_df"
   ]
  },
  {
   "cell_type": "code",
   "execution_count": 56,
   "metadata": {
    "colab": {
     "base_uri": "https://localhost:8080/",
     "height": 0
    },
    "id": "GO9TD17pFOp9",
    "outputId": "ccc3479a-f4f1-4c2d-a77a-18d6277bf71e"
   },
   "outputs": [
    {
     "name": "stdout",
     "output_type": "stream",
     "text": [
      "        VisitNumber Weekday           Upc  ScanCount DepartmentDescription  \\\n",
      "0                 5  Friday  6.811315e+10         -1    FINANCIAL SERVICES   \n",
      "1                 9  Friday  1.070081e+09          1   IMPULSE MERCHANDISE   \n",
      "2                 9  Friday  3.107000e+03          1               PRODUCE   \n",
      "3                 9  Friday  4.011000e+03          1               PRODUCE   \n",
      "4                10  Friday  6.414410e+09          1           DSD GROCERY   \n",
      "...             ...     ...           ...        ...                   ...   \n",
      "453406       191344  Sunday  7.315096e+10          1                BEAUTY   \n",
      "453407       191344  Sunday  6.505300e+10          1              WIRELESS   \n",
      "453408       191344  Sunday  7.918131e+09          1                BEAUTY   \n",
      "453409       191347  Sunday  4.190008e+09          1                 DAIRY   \n",
      "453410       191347  Sunday  3.800060e+09          1     GROCERY DRY GOODS   \n",
      "\n",
      "        FinelineNumber  is_train_set  \n",
      "0               1000.0             1  \n",
      "1                115.0             1  \n",
      "2                103.0             1  \n",
      "3               5501.0             1  \n",
      "4               2008.0             1  \n",
      "...                ...           ...  \n",
      "453406          3405.0             1  \n",
      "453407          1712.0             1  \n",
      "453408          3405.0             1  \n",
      "453409          1512.0             1  \n",
      "453410          3600.0             1  \n",
      "\n",
      "[453411 rows x 7 columns]\n"
     ]
    }
   ],
   "source": [
    "X, y, XX, yy = transform_data('https://raw.githubusercontent.com/martinbas/AprendizajeSupervisado/master/practico/data/train.csv', \n",
    "                              'https://raw.githubusercontent.com/martinbas/AprendizajeSupervisado/master/practico/data/test.csv')"
   ]
  },
  {
   "cell_type": "code",
   "execution_count": 57,
   "metadata": {
    "id": "YaC34_V3FvAz"
   },
   "outputs": [],
   "source": [
    "X_train, X_valid, y_train, y_valid = train_test_split(X, y, test_size=0.3, random_state=42)"
   ]
  },
  {
   "cell_type": "markdown",
   "metadata": {
    "id": "zJjg4ZQWopl3"
   },
   "source": [
    "### PARTE 2: Sondeo de modelos\n",
    "### Realizamos predicciones con varios modelos con parámetros por defecto "
   ]
  },
  {
   "cell_type": "code",
   "execution_count": 58,
   "metadata": {
    "id": "PzzhY8RRFzRd"
   },
   "outputs": [],
   "source": [
    "rm  = 42\n",
    "dict_models   =  {'GaussianNB':                 GaussianNB(),\n",
    "                  'AdaBoostClassifier':         AdaBoostClassifier(random_state=rm),\n",
    "                  'RandomForestClassifier':     RandomForestClassifier(random_state=rm),\n",
    "                  'KNeighborsClassifier':       KNeighborsClassifier(),\n",
    "                  'Dummy_frequent':             DummyClassifier(strategy='most_frequent'),\n",
    "                  'Dummy_stratified':           DummyClassifier(strategy= 'stratified', random_state=rm),\n",
    "                  #'GradientBoostingClassifier': GradientBoostingClassifier(random_state=rm)\n",
    "                  }"
   ]
  },
  {
   "cell_type": "code",
   "execution_count": 59,
   "metadata": {
    "colab": {
     "base_uri": "https://localhost:8080/",
     "height": 127
    },
    "id": "oisHFdmU2zZF",
    "outputId": "901e6b21-3128-4678-96ba-ebd5d34b6d27"
   },
   "outputs": [
    {
     "name": "stdout",
     "output_type": "stream",
     "text": [
      "GaussianNB 0.19\n",
      "AdaBoostClassifier 0.2\n",
      "RandomForestClassifier 0.7\n",
      "KNeighborsClassifier 0.3\n",
      "Dummy_frequent 0.13\n",
      "Dummy_stratified 0.06\n"
     ]
    }
   ],
   "source": [
    "# probamos con algunos modelos con valores por defecto\n",
    "# a partir de los resultados obtenidos decidimos optimizar los parámetros de\n",
    "# los siguientes algoritmos: AdaBoost, RandomForestClassifier, KNeighborsClassifier,\n",
    "# GradientBoostingClassifier\n",
    "dict_acc = {}\n",
    "c = 0\n",
    "for i in dict_models.keys():\n",
    "  model =       dict_models[i]\n",
    "  model.fit(X_train, y_train)\n",
    "  y_pred =      model.predict(X_valid)\n",
    "  dict_acc[i] = accuracy_score(y_valid, y_pred)\n",
    "  print(i, round(dict_acc[i], 2))\n",
    "  c += 1"
   ]
  },
  {
   "cell_type": "markdown",
   "metadata": {},
   "source": [
    "### PARTE 3: Optimizacion de parámetros: para elejir aquellos con mejor performance "
   ]
  },
  {
   "cell_type": "markdown",
   "metadata": {
    "id": "GHd8pShppzLu"
   },
   "source": [
    "### KNeighborsClassifier: optimización de parámetros"
   ]
  },
  {
   "cell_type": "code",
   "execution_count": 60,
   "metadata": {
    "id": "OLG_7ZnTgvW0"
   },
   "outputs": [],
   "source": [
    "# generamos un diccionario para realizar una búsqueda por grilla para el algoritmo de vecinos más cercanos\n",
    "dict_kn_grid = {  'n_neighbors':    [5            , 20          , 40    , 60  ],\n",
    "                  'weights':        [ 'uniform'   , 'distance'                ],\n",
    "                  'p':              [ 1           , 2                         ]\n",
    "                }"
   ]
  },
  {
   "cell_type": "code",
   "execution_count": 61,
   "metadata": {
    "id": "vi5_1-0_ioqI"
   },
   "outputs": [],
   "source": [
    "model     = KNeighborsClassifier()\n",
    "clf       = GridSearchCV(model, dict_kn_grid, scoring='accuracy', cv=3)\n",
    "search    = clf.fit(X_train, y_train)\n",
    "search_df = pd.DataFrame(search.cv_results_)"
   ]
  },
  {
   "cell_type": "code",
   "execution_count": 62,
   "metadata": {
    "colab": {
     "base_uri": "https://localhost:8080/",
     "height": 551
    },
    "id": "0pSoYC0qjX6b",
    "outputId": "9bed0b02-2c8a-4e6e-9609-946a54001822"
   },
   "outputs": [
    {
     "data": {
      "text/html": [
       "<div>\n",
       "<style scoped>\n",
       "    .dataframe tbody tr th:only-of-type {\n",
       "        vertical-align: middle;\n",
       "    }\n",
       "\n",
       "    .dataframe tbody tr th {\n",
       "        vertical-align: top;\n",
       "    }\n",
       "\n",
       "    .dataframe thead th {\n",
       "        text-align: right;\n",
       "    }\n",
       "</style>\n",
       "<table border=\"1\" class=\"dataframe\">\n",
       "  <thead>\n",
       "    <tr style=\"text-align: right;\">\n",
       "      <th></th>\n",
       "      <th>rank_test_score</th>\n",
       "      <th>mean_test_score</th>\n",
       "      <th>param_n_neighbors</th>\n",
       "      <th>param_weights</th>\n",
       "      <th>param_p</th>\n",
       "    </tr>\n",
       "  </thead>\n",
       "  <tbody>\n",
       "    <tr>\n",
       "      <th>8</th>\n",
       "      <td>1</td>\n",
       "      <td>0.310401</td>\n",
       "      <td>40</td>\n",
       "      <td>uniform</td>\n",
       "      <td>1</td>\n",
       "    </tr>\n",
       "    <tr>\n",
       "      <th>4</th>\n",
       "      <td>2</td>\n",
       "      <td>0.309186</td>\n",
       "      <td>20</td>\n",
       "      <td>uniform</td>\n",
       "      <td>1</td>\n",
       "    </tr>\n",
       "    <tr>\n",
       "      <th>10</th>\n",
       "      <td>3</td>\n",
       "      <td>0.308866</td>\n",
       "      <td>40</td>\n",
       "      <td>uniform</td>\n",
       "      <td>2</td>\n",
       "    </tr>\n",
       "    <tr>\n",
       "      <th>6</th>\n",
       "      <td>4</td>\n",
       "      <td>0.308014</td>\n",
       "      <td>20</td>\n",
       "      <td>uniform</td>\n",
       "      <td>2</td>\n",
       "    </tr>\n",
       "    <tr>\n",
       "      <th>12</th>\n",
       "      <td>5</td>\n",
       "      <td>0.307396</td>\n",
       "      <td>60</td>\n",
       "      <td>uniform</td>\n",
       "      <td>1</td>\n",
       "    </tr>\n",
       "    <tr>\n",
       "      <th>14</th>\n",
       "      <td>6</td>\n",
       "      <td>0.306202</td>\n",
       "      <td>60</td>\n",
       "      <td>uniform</td>\n",
       "      <td>2</td>\n",
       "    </tr>\n",
       "    <tr>\n",
       "      <th>13</th>\n",
       "      <td>7</td>\n",
       "      <td>0.303943</td>\n",
       "      <td>60</td>\n",
       "      <td>distance</td>\n",
       "      <td>1</td>\n",
       "    </tr>\n",
       "    <tr>\n",
       "      <th>9</th>\n",
       "      <td>8</td>\n",
       "      <td>0.301897</td>\n",
       "      <td>40</td>\n",
       "      <td>distance</td>\n",
       "      <td>1</td>\n",
       "    </tr>\n",
       "    <tr>\n",
       "      <th>15</th>\n",
       "      <td>9</td>\n",
       "      <td>0.301066</td>\n",
       "      <td>60</td>\n",
       "      <td>distance</td>\n",
       "      <td>2</td>\n",
       "    </tr>\n",
       "    <tr>\n",
       "      <th>11</th>\n",
       "      <td>10</td>\n",
       "      <td>0.299446</td>\n",
       "      <td>40</td>\n",
       "      <td>distance</td>\n",
       "      <td>2</td>\n",
       "    </tr>\n",
       "    <tr>\n",
       "      <th>5</th>\n",
       "      <td>11</td>\n",
       "      <td>0.297208</td>\n",
       "      <td>20</td>\n",
       "      <td>distance</td>\n",
       "      <td>1</td>\n",
       "    </tr>\n",
       "    <tr>\n",
       "      <th>7</th>\n",
       "      <td>12</td>\n",
       "      <td>0.294544</td>\n",
       "      <td>20</td>\n",
       "      <td>distance</td>\n",
       "      <td>2</td>\n",
       "    </tr>\n",
       "    <tr>\n",
       "      <th>0</th>\n",
       "      <td>13</td>\n",
       "      <td>0.285401</td>\n",
       "      <td>5</td>\n",
       "      <td>uniform</td>\n",
       "      <td>1</td>\n",
       "    </tr>\n",
       "    <tr>\n",
       "      <th>1</th>\n",
       "      <td>14</td>\n",
       "      <td>0.284612</td>\n",
       "      <td>5</td>\n",
       "      <td>distance</td>\n",
       "      <td>1</td>\n",
       "    </tr>\n",
       "    <tr>\n",
       "      <th>2</th>\n",
       "      <td>15</td>\n",
       "      <td>0.282651</td>\n",
       "      <td>5</td>\n",
       "      <td>uniform</td>\n",
       "      <td>2</td>\n",
       "    </tr>\n",
       "    <tr>\n",
       "      <th>3</th>\n",
       "      <td>16</td>\n",
       "      <td>0.281756</td>\n",
       "      <td>5</td>\n",
       "      <td>distance</td>\n",
       "      <td>2</td>\n",
       "    </tr>\n",
       "  </tbody>\n",
       "</table>\n",
       "</div>"
      ],
      "text/plain": [
       "    rank_test_score  mean_test_score param_n_neighbors param_weights param_p\n",
       "8                 1         0.310401                40       uniform       1\n",
       "4                 2         0.309186                20       uniform       1\n",
       "10                3         0.308866                40       uniform       2\n",
       "6                 4         0.308014                20       uniform       2\n",
       "12                5         0.307396                60       uniform       1\n",
       "14                6         0.306202                60       uniform       2\n",
       "13                7         0.303943                60      distance       1\n",
       "9                 8         0.301897                40      distance       1\n",
       "15                9         0.301066                60      distance       2\n",
       "11               10         0.299446                40      distance       2\n",
       "5                11         0.297208                20      distance       1\n",
       "7                12         0.294544                20      distance       2\n",
       "0                13         0.285401                 5       uniform       1\n",
       "1                14         0.284612                 5      distance       1\n",
       "2                15         0.282651                 5       uniform       2\n",
       "3                16         0.281756                 5      distance       2"
      ]
     },
     "execution_count": 62,
     "metadata": {},
     "output_type": "execute_result"
    }
   ],
   "source": [
    "print_results(search_df, dict_kn_grid, 20)"
   ]
  },
  {
   "cell_type": "code",
   "execution_count": 63,
   "metadata": {
    "id": "3HhAyjJNl4LE"
   },
   "outputs": [],
   "source": [
    "# generamos un diccionario para realizar una búsqueda en grilla para el algoritmo de vecinos más cercanos\n",
    "# con los mejores parámetros encontrados en la búsqueda en grilla anterior para estimar el mejor número\n",
    "# de vecinos más cercanos\n",
    "\n",
    "dict_kn_grid = {  'n_neighbors':    [ 50           , 80          , 100     , 150     , 200      , 300 ],\n",
    "                  'weights':        [ 'distance'                                                      ],\n",
    "                  'p':              [ 1                                                               ]\n",
    "                }"
   ]
  },
  {
   "cell_type": "code",
   "execution_count": 64,
   "metadata": {
    "id": "QMoATGBbl4Lu"
   },
   "outputs": [],
   "source": [
    "model     = KNeighborsClassifier()\n",
    "clf       = GridSearchCV(model, dict_kn_grid, scoring='accuracy', cv=3)\n",
    "search    = clf.fit(X_train, y_train)\n",
    "search_df = pd.DataFrame(search.cv_results_)"
   ]
  },
  {
   "cell_type": "code",
   "execution_count": 65,
   "metadata": {
    "colab": {
     "base_uri": "https://localhost:8080/",
     "height": 206
    },
    "id": "r2cMS-A3l4MQ",
    "outputId": "112088a6-6883-4553-fcee-a636f9ebcc94"
   },
   "outputs": [
    {
     "data": {
      "text/html": [
       "<div>\n",
       "<style scoped>\n",
       "    .dataframe tbody tr th:only-of-type {\n",
       "        vertical-align: middle;\n",
       "    }\n",
       "\n",
       "    .dataframe tbody tr th {\n",
       "        vertical-align: top;\n",
       "    }\n",
       "\n",
       "    .dataframe thead th {\n",
       "        text-align: right;\n",
       "    }\n",
       "</style>\n",
       "<table border=\"1\" class=\"dataframe\">\n",
       "  <thead>\n",
       "    <tr style=\"text-align: right;\">\n",
       "      <th></th>\n",
       "      <th>rank_test_score</th>\n",
       "      <th>mean_test_score</th>\n",
       "      <th>param_n_neighbors</th>\n",
       "      <th>param_weights</th>\n",
       "      <th>param_p</th>\n",
       "    </tr>\n",
       "  </thead>\n",
       "  <tbody>\n",
       "    <tr>\n",
       "      <th>5</th>\n",
       "      <td>1</td>\n",
       "      <td>0.311189</td>\n",
       "      <td>300</td>\n",
       "      <td>distance</td>\n",
       "      <td>1</td>\n",
       "    </tr>\n",
       "    <tr>\n",
       "      <th>4</th>\n",
       "      <td>2</td>\n",
       "      <td>0.309484</td>\n",
       "      <td>200</td>\n",
       "      <td>distance</td>\n",
       "      <td>1</td>\n",
       "    </tr>\n",
       "    <tr>\n",
       "      <th>3</th>\n",
       "      <td>3</td>\n",
       "      <td>0.308760</td>\n",
       "      <td>150</td>\n",
       "      <td>distance</td>\n",
       "      <td>1</td>\n",
       "    </tr>\n",
       "    <tr>\n",
       "      <th>2</th>\n",
       "      <td>4</td>\n",
       "      <td>0.306735</td>\n",
       "      <td>100</td>\n",
       "      <td>distance</td>\n",
       "      <td>1</td>\n",
       "    </tr>\n",
       "    <tr>\n",
       "      <th>1</th>\n",
       "      <td>5</td>\n",
       "      <td>0.305499</td>\n",
       "      <td>80</td>\n",
       "      <td>distance</td>\n",
       "      <td>1</td>\n",
       "    </tr>\n",
       "  </tbody>\n",
       "</table>\n",
       "</div>"
      ],
      "text/plain": [
       "   rank_test_score  mean_test_score param_n_neighbors param_weights param_p\n",
       "5                1         0.311189               300      distance       1\n",
       "4                2         0.309484               200      distance       1\n",
       "3                3         0.308760               150      distance       1\n",
       "2                4         0.306735               100      distance       1\n",
       "1                5         0.305499                80      distance       1"
      ]
     },
     "execution_count": 65,
     "metadata": {},
     "output_type": "execute_result"
    }
   ],
   "source": [
    "print_results(search_df, dict_kn_grid)"
   ]
  },
  {
   "cell_type": "code",
   "execution_count": 66,
   "metadata": {
    "id": "VmhvzOuzngzA"
   },
   "outputs": [],
   "source": [
    "# definimos el diccionario de variables elejidas para el algoritmo de vecinos más cercanos\n",
    "dict_kn_selected = {'n_neighbors':150, 'weights':'distance',  'p':1}"
   ]
  },
  {
   "cell_type": "markdown",
   "metadata": {
    "id": "VLjBFkIuqDNK"
   },
   "source": [
    "### RandomForestClassifier: optimización de parámetros"
   ]
  },
  {
   "cell_type": "code",
   "execution_count": 67,
   "metadata": {
    "id": "4PumY10gkS11"
   },
   "outputs": [],
   "source": [
    "# generamos un diccionario para realizar una búsqueda por grilla \n",
    "dict_forest_grid = {'n_estimators':        [ 10                                                    ],\n",
    "                    'criterion':           [ 'gini'      , 'entropy'                               ],\n",
    "                    'max_features':        [ 'sqrt'      , 'log2'    , None    , 0.5     ,     0.1 ],\n",
    "                    'bootstrap':           [ True        , False                                   ],\n",
    "                    'warm_start':          [ False                                           ],\n",
    "                    'class_weight':        [ None        , 'balanced', 'balanced_subsample'        ],\n",
    "                    'max_samples':         [ None        , 0.1       , 0.5                         ]\n",
    "                    }"
   ]
  },
  {
   "cell_type": "code",
   "execution_count": 68,
   "metadata": {
    "id": "BEdY0bx3dWdU"
   },
   "outputs": [],
   "source": [
    "model     = RandomForestClassifier(random_state=42)\n",
    "clf       = RandomizedSearchCV(model, dict_forest_grid, scoring='accuracy', cv=2)\n",
    "search    = clf.fit(X_train, y_train)\n",
    "search_df = pd.DataFrame(search.cv_results_)"
   ]
  },
  {
   "cell_type": "code",
   "execution_count": 69,
   "metadata": {
    "colab": {
     "base_uri": "https://localhost:8080/",
     "height": 226
    },
    "id": "TKPf-99ldvdr",
    "outputId": "1ed343ff-fad0-4e8f-fdc9-d5331be5f85f"
   },
   "outputs": [
    {
     "data": {
      "text/html": [
       "<div>\n",
       "<style scoped>\n",
       "    .dataframe tbody tr th:only-of-type {\n",
       "        vertical-align: middle;\n",
       "    }\n",
       "\n",
       "    .dataframe tbody tr th {\n",
       "        vertical-align: top;\n",
       "    }\n",
       "\n",
       "    .dataframe thead th {\n",
       "        text-align: right;\n",
       "    }\n",
       "</style>\n",
       "<table border=\"1\" class=\"dataframe\">\n",
       "  <thead>\n",
       "    <tr style=\"text-align: right;\">\n",
       "      <th></th>\n",
       "      <th>rank_test_score</th>\n",
       "      <th>mean_test_score</th>\n",
       "      <th>param_n_estimators</th>\n",
       "      <th>param_criterion</th>\n",
       "      <th>param_max_features</th>\n",
       "      <th>param_bootstrap</th>\n",
       "      <th>param_warm_start</th>\n",
       "      <th>param_class_weight</th>\n",
       "      <th>param_max_samples</th>\n",
       "    </tr>\n",
       "  </thead>\n",
       "  <tbody>\n",
       "    <tr>\n",
       "      <th>1</th>\n",
       "      <td>1</td>\n",
       "      <td>0.657481</td>\n",
       "      <td>10</td>\n",
       "      <td>gini</td>\n",
       "      <td>None</td>\n",
       "      <td>True</td>\n",
       "      <td>False</td>\n",
       "      <td>None</td>\n",
       "      <td>None</td>\n",
       "    </tr>\n",
       "    <tr>\n",
       "      <th>5</th>\n",
       "      <td>2</td>\n",
       "      <td>0.634484</td>\n",
       "      <td>10</td>\n",
       "      <td>entropy</td>\n",
       "      <td>0.1</td>\n",
       "      <td>False</td>\n",
       "      <td>False</td>\n",
       "      <td>None</td>\n",
       "      <td>None</td>\n",
       "    </tr>\n",
       "    <tr>\n",
       "      <th>2</th>\n",
       "      <td>3</td>\n",
       "      <td>0.633355</td>\n",
       "      <td>10</td>\n",
       "      <td>gini</td>\n",
       "      <td>0.1</td>\n",
       "      <td>True</td>\n",
       "      <td>False</td>\n",
       "      <td>balanced</td>\n",
       "      <td>0.5</td>\n",
       "    </tr>\n",
       "    <tr>\n",
       "      <th>4</th>\n",
       "      <td>4</td>\n",
       "      <td>0.625980</td>\n",
       "      <td>10</td>\n",
       "      <td>entropy</td>\n",
       "      <td>0.1</td>\n",
       "      <td>False</td>\n",
       "      <td>False</td>\n",
       "      <td>balanced_subsample</td>\n",
       "      <td>0.5</td>\n",
       "    </tr>\n",
       "    <tr>\n",
       "      <th>9</th>\n",
       "      <td>4</td>\n",
       "      <td>0.625980</td>\n",
       "      <td>10</td>\n",
       "      <td>entropy</td>\n",
       "      <td>0.1</td>\n",
       "      <td>False</td>\n",
       "      <td>False</td>\n",
       "      <td>balanced_subsample</td>\n",
       "      <td>None</td>\n",
       "    </tr>\n",
       "  </tbody>\n",
       "</table>\n",
       "</div>"
      ],
      "text/plain": [
       "   rank_test_score  mean_test_score param_n_estimators param_criterion  \\\n",
       "1                1         0.657481                 10            gini   \n",
       "5                2         0.634484                 10         entropy   \n",
       "2                3         0.633355                 10            gini   \n",
       "4                4         0.625980                 10         entropy   \n",
       "9                4         0.625980                 10         entropy   \n",
       "\n",
       "  param_max_features param_bootstrap param_warm_start  param_class_weight  \\\n",
       "1               None            True            False                None   \n",
       "5                0.1           False            False                None   \n",
       "2                0.1            True            False            balanced   \n",
       "4                0.1           False            False  balanced_subsample   \n",
       "9                0.1           False            False  balanced_subsample   \n",
       "\n",
       "  param_max_samples  \n",
       "1              None  \n",
       "5              None  \n",
       "2               0.5  \n",
       "4               0.5  \n",
       "9              None  "
      ]
     },
     "execution_count": 69,
     "metadata": {},
     "output_type": "execute_result"
    }
   ],
   "source": [
    "print_results(search_df, dict_forest_grid)"
   ]
  },
  {
   "cell_type": "code",
   "execution_count": 70,
   "metadata": {
    "id": "fF_PGhevtU32"
   },
   "outputs": [],
   "source": [
    "# generamos un diccionario para realizar una búsqueda en grilla para el algoritmo de RandomForestClassifier\n",
    "# con los mejores parámetros encontrados en la búsqueda aleatoria anterior para optimizar un poco más algunos\n",
    "# de ellos\n",
    "dict_forest_grid = {'n_estimators':        [ 10                                                         ],\n",
    "                    'criterion':           [ 'gini'       ,                                             ],\n",
    "                    'max_features':        [ 'sqrt'       ,         0.5                                 ],\n",
    "                    'bootstrap':           [ True                                                       ],\n",
    "                    'warm_start':          [ False                                                      ],\n",
    "                    'class_weight':        [ 'balanced_subsample'                                       ],\n",
    "                    'max_samples':         [ None        ,          0.1       , 0.05   , 0.15    , 0.2  ]\n",
    "                    }"
   ]
  },
  {
   "cell_type": "code",
   "execution_count": 71,
   "metadata": {
    "id": "7ZLdXgGTsr8r"
   },
   "outputs": [],
   "source": [
    "model     = RandomForestClassifier()\n",
    "clf       = GridSearchCV(model, dict_forest_grid, scoring='accuracy', cv=2)\n",
    "search    = clf.fit(X_train, y_train)\n",
    "search_df = pd.DataFrame(search.cv_results_)"
   ]
  },
  {
   "cell_type": "code",
   "execution_count": 72,
   "metadata": {
    "colab": {
     "base_uri": "https://localhost:8080/",
     "height": 226
    },
    "id": "9EtfbbF3sr9T",
    "outputId": "fe9d72a2-0177-44b6-d8eb-5298fafb4aa0"
   },
   "outputs": [
    {
     "data": {
      "text/html": [
       "<div>\n",
       "<style scoped>\n",
       "    .dataframe tbody tr th:only-of-type {\n",
       "        vertical-align: middle;\n",
       "    }\n",
       "\n",
       "    .dataframe tbody tr th {\n",
       "        vertical-align: top;\n",
       "    }\n",
       "\n",
       "    .dataframe thead th {\n",
       "        text-align: right;\n",
       "    }\n",
       "</style>\n",
       "<table border=\"1\" class=\"dataframe\">\n",
       "  <thead>\n",
       "    <tr style=\"text-align: right;\">\n",
       "      <th></th>\n",
       "      <th>rank_test_score</th>\n",
       "      <th>mean_test_score</th>\n",
       "      <th>param_n_estimators</th>\n",
       "      <th>param_criterion</th>\n",
       "      <th>param_max_features</th>\n",
       "      <th>param_bootstrap</th>\n",
       "      <th>param_warm_start</th>\n",
       "      <th>param_class_weight</th>\n",
       "      <th>param_max_samples</th>\n",
       "    </tr>\n",
       "  </thead>\n",
       "  <tbody>\n",
       "    <tr>\n",
       "      <th>5</th>\n",
       "      <td>1</td>\n",
       "      <td>0.654923</td>\n",
       "      <td>10</td>\n",
       "      <td>gini</td>\n",
       "      <td>0.5</td>\n",
       "      <td>True</td>\n",
       "      <td>False</td>\n",
       "      <td>balanced_subsample</td>\n",
       "      <td>None</td>\n",
       "    </tr>\n",
       "    <tr>\n",
       "      <th>0</th>\n",
       "      <td>2</td>\n",
       "      <td>0.643308</td>\n",
       "      <td>10</td>\n",
       "      <td>gini</td>\n",
       "      <td>sqrt</td>\n",
       "      <td>True</td>\n",
       "      <td>False</td>\n",
       "      <td>balanced_subsample</td>\n",
       "      <td>None</td>\n",
       "    </tr>\n",
       "    <tr>\n",
       "      <th>8</th>\n",
       "      <td>3</td>\n",
       "      <td>0.634506</td>\n",
       "      <td>10</td>\n",
       "      <td>gini</td>\n",
       "      <td>0.5</td>\n",
       "      <td>True</td>\n",
       "      <td>False</td>\n",
       "      <td>balanced_subsample</td>\n",
       "      <td>0.15</td>\n",
       "    </tr>\n",
       "    <tr>\n",
       "      <th>9</th>\n",
       "      <td>4</td>\n",
       "      <td>0.634463</td>\n",
       "      <td>10</td>\n",
       "      <td>gini</td>\n",
       "      <td>0.5</td>\n",
       "      <td>True</td>\n",
       "      <td>False</td>\n",
       "      <td>balanced_subsample</td>\n",
       "      <td>0.2</td>\n",
       "    </tr>\n",
       "    <tr>\n",
       "      <th>4</th>\n",
       "      <td>5</td>\n",
       "      <td>0.621910</td>\n",
       "      <td>10</td>\n",
       "      <td>gini</td>\n",
       "      <td>sqrt</td>\n",
       "      <td>True</td>\n",
       "      <td>False</td>\n",
       "      <td>balanced_subsample</td>\n",
       "      <td>0.2</td>\n",
       "    </tr>\n",
       "  </tbody>\n",
       "</table>\n",
       "</div>"
      ],
      "text/plain": [
       "   rank_test_score  mean_test_score param_n_estimators param_criterion  \\\n",
       "5                1         0.654923                 10            gini   \n",
       "0                2         0.643308                 10            gini   \n",
       "8                3         0.634506                 10            gini   \n",
       "9                4         0.634463                 10            gini   \n",
       "4                5         0.621910                 10            gini   \n",
       "\n",
       "  param_max_features param_bootstrap param_warm_start  param_class_weight  \\\n",
       "5                0.5            True            False  balanced_subsample   \n",
       "0               sqrt            True            False  balanced_subsample   \n",
       "8                0.5            True            False  balanced_subsample   \n",
       "9                0.5            True            False  balanced_subsample   \n",
       "4               sqrt            True            False  balanced_subsample   \n",
       "\n",
       "  param_max_samples  \n",
       "5              None  \n",
       "0              None  \n",
       "8              0.15  \n",
       "9               0.2  \n",
       "4               0.2  "
      ]
     },
     "execution_count": 72,
     "metadata": {},
     "output_type": "execute_result"
    }
   ],
   "source": [
    "print_results(search_df, dict_forest_grid)"
   ]
  },
  {
   "cell_type": "code",
   "execution_count": 73,
   "metadata": {
    "id": "99uVbs8Ul95T"
   },
   "outputs": [],
   "source": [
    "# generamos un diccionario con los parámetros seleccionados imputando 300 estimadores arbitrariamente\n",
    "dict_forest_selected = {  'n_estimators':        [ 300                    ],\n",
    "                          'criterion':           [ 'gini'                 ],\n",
    "                          'max_features':        [ 0.5                    ],\n",
    "                          'bootstrap':           [ True                   ],\n",
    "                          'warm_start':          [ False                  ],\n",
    "                          'class_weight':        [ 'Balanced_subsample'   ],\n",
    "                          'max_samples':         [ None                   ]\n",
    "                        }"
   ]
  },
  {
   "cell_type": "markdown",
   "metadata": {
    "id": "1VD9NB0bE70l"
   },
   "source": [
    "### GaussianNB: optimización de parámetros"
   ]
  },
  {
   "cell_type": "code",
   "execution_count": 74,
   "metadata": {
    "id": "9ouGqXg7FEOZ"
   },
   "outputs": [],
   "source": [
    "# generamos un diccionario para realizar una búsqueda por grilla tomando sólo 5 estimadores para no generar\n",
    "# tiempos de ejecución muy elevados\n",
    "dict_gau_grid = { 'var_smoothing': [ 1e-8, 1e-9, 1e-10, 1e-11, 1e-12 ],\n",
    "                 }"
   ]
  },
  {
   "cell_type": "code",
   "execution_count": 75,
   "metadata": {
    "id": "b9LEdqa5F4rv"
   },
   "outputs": [],
   "source": [
    "model     = GaussianNB()\n",
    "clf       = GridSearchCV(model, dict_gau_grid, scoring='accuracy', cv=3)\n",
    "search    = clf.fit(X_train, y_train)\n",
    "search_df = pd.DataFrame(search.cv_results_)"
   ]
  },
  {
   "cell_type": "code",
   "execution_count": 76,
   "metadata": {
    "colab": {
     "base_uri": "https://localhost:8080/",
     "height": 206
    },
    "id": "zlaEGo7hGJKL",
    "outputId": "782e0191-57b9-494b-cb6d-9f8a341bdc54"
   },
   "outputs": [
    {
     "data": {
      "text/html": [
       "<div>\n",
       "<style scoped>\n",
       "    .dataframe tbody tr th:only-of-type {\n",
       "        vertical-align: middle;\n",
       "    }\n",
       "\n",
       "    .dataframe tbody tr th {\n",
       "        vertical-align: top;\n",
       "    }\n",
       "\n",
       "    .dataframe thead th {\n",
       "        text-align: right;\n",
       "    }\n",
       "</style>\n",
       "<table border=\"1\" class=\"dataframe\">\n",
       "  <thead>\n",
       "    <tr style=\"text-align: right;\">\n",
       "      <th></th>\n",
       "      <th>rank_test_score</th>\n",
       "      <th>mean_test_score</th>\n",
       "      <th>param_var_smoothing</th>\n",
       "    </tr>\n",
       "  </thead>\n",
       "  <tbody>\n",
       "    <tr>\n",
       "      <th>4</th>\n",
       "      <td>1</td>\n",
       "      <td>0.190516</td>\n",
       "      <td>1e-12</td>\n",
       "    </tr>\n",
       "    <tr>\n",
       "      <th>3</th>\n",
       "      <td>2</td>\n",
       "      <td>0.190175</td>\n",
       "      <td>1e-11</td>\n",
       "    </tr>\n",
       "    <tr>\n",
       "      <th>0</th>\n",
       "      <td>3</td>\n",
       "      <td>0.190111</td>\n",
       "      <td>1e-08</td>\n",
       "    </tr>\n",
       "    <tr>\n",
       "      <th>1</th>\n",
       "      <td>3</td>\n",
       "      <td>0.190111</td>\n",
       "      <td>1e-09</td>\n",
       "    </tr>\n",
       "    <tr>\n",
       "      <th>2</th>\n",
       "      <td>3</td>\n",
       "      <td>0.190111</td>\n",
       "      <td>1e-10</td>\n",
       "    </tr>\n",
       "  </tbody>\n",
       "</table>\n",
       "</div>"
      ],
      "text/plain": [
       "   rank_test_score  mean_test_score param_var_smoothing\n",
       "4                1         0.190516               1e-12\n",
       "3                2         0.190175               1e-11\n",
       "0                3         0.190111               1e-08\n",
       "1                3         0.190111               1e-09\n",
       "2                3         0.190111               1e-10"
      ]
     },
     "execution_count": 76,
     "metadata": {},
     "output_type": "execute_result"
    }
   ],
   "source": [
    "print_results(search_df, dict_gau_grid)"
   ]
  },
  {
   "cell_type": "code",
   "execution_count": 77,
   "metadata": {
    "id": "PGvhBNumITOc"
   },
   "outputs": [],
   "source": [
    "dict_gau_selected = {'var_smoothing': 1e-10}"
   ]
  },
  {
   "cell_type": "markdown",
   "metadata": {
    "id": "mEr_MhVXxMtu"
   },
   "source": [
    "### AdaBoostClassifier: optimización de parámetros"
   ]
  },
  {
   "cell_type": "code",
   "execution_count": 78,
   "metadata": {
    "id": "NnZASRiFxfTA"
   },
   "outputs": [],
   "source": [
    "# generamos un diccionario para realizar una búsqueda por grilla \n",
    "dict_ada_grid = { 'base_estimator': [ RandomForestClassifier()        ],\n",
    "                  'n_estimators':   [ 50                      , 100   ],\n",
    "                  'learning_rate':  [ 0.1                     , 1     ],\n",
    "                  }"
   ]
  },
  {
   "cell_type": "code",
   "execution_count": 79,
   "metadata": {
    "id": "oALEBXCFmueb"
   },
   "outputs": [],
   "source": [
    "model     = AdaBoostClassifier(random_state=42)\n",
    "clf       = GridSearchCV(model, dict_ada_grid, scoring='accuracy', cv=2)\n",
    "search    = clf.fit(X_train, y_train)\n",
    "search_df = pd.DataFrame(search.cv_results_)"
   ]
  },
  {
   "cell_type": "code",
   "execution_count": 80,
   "metadata": {
    "colab": {
     "base_uri": "https://localhost:8080/",
     "height": 175
    },
    "id": "DHKF_x92mxbD",
    "outputId": "8167670a-566b-4651-dd01-01d52447f4c9"
   },
   "outputs": [
    {
     "data": {
      "text/html": [
       "<div>\n",
       "<style scoped>\n",
       "    .dataframe tbody tr th:only-of-type {\n",
       "        vertical-align: middle;\n",
       "    }\n",
       "\n",
       "    .dataframe tbody tr th {\n",
       "        vertical-align: top;\n",
       "    }\n",
       "\n",
       "    .dataframe thead th {\n",
       "        text-align: right;\n",
       "    }\n",
       "</style>\n",
       "<table border=\"1\" class=\"dataframe\">\n",
       "  <thead>\n",
       "    <tr style=\"text-align: right;\">\n",
       "      <th></th>\n",
       "      <th>rank_test_score</th>\n",
       "      <th>mean_test_score</th>\n",
       "      <th>param_base_estimator</th>\n",
       "      <th>param_n_estimators</th>\n",
       "      <th>param_learning_rate</th>\n",
       "    </tr>\n",
       "  </thead>\n",
       "  <tbody>\n",
       "    <tr>\n",
       "      <th>0</th>\n",
       "      <td>1</td>\n",
       "      <td>0.683674</td>\n",
       "      <td>RandomForestClassifier()</td>\n",
       "      <td>50</td>\n",
       "      <td>0.1</td>\n",
       "    </tr>\n",
       "    <tr>\n",
       "      <th>1</th>\n",
       "      <td>1</td>\n",
       "      <td>0.683674</td>\n",
       "      <td>RandomForestClassifier()</td>\n",
       "      <td>100</td>\n",
       "      <td>0.1</td>\n",
       "    </tr>\n",
       "    <tr>\n",
       "      <th>2</th>\n",
       "      <td>1</td>\n",
       "      <td>0.683674</td>\n",
       "      <td>RandomForestClassifier()</td>\n",
       "      <td>50</td>\n",
       "      <td>1</td>\n",
       "    </tr>\n",
       "    <tr>\n",
       "      <th>3</th>\n",
       "      <td>1</td>\n",
       "      <td>0.683674</td>\n",
       "      <td>RandomForestClassifier()</td>\n",
       "      <td>100</td>\n",
       "      <td>1</td>\n",
       "    </tr>\n",
       "  </tbody>\n",
       "</table>\n",
       "</div>"
      ],
      "text/plain": [
       "   rank_test_score  mean_test_score      param_base_estimator  \\\n",
       "0                1         0.683674  RandomForestClassifier()   \n",
       "1                1         0.683674  RandomForestClassifier()   \n",
       "2                1         0.683674  RandomForestClassifier()   \n",
       "3                1         0.683674  RandomForestClassifier()   \n",
       "\n",
       "  param_n_estimators param_learning_rate  \n",
       "0                 50                 0.1  \n",
       "1                100                 0.1  \n",
       "2                 50                   1  \n",
       "3                100                   1  "
      ]
     },
     "execution_count": 80,
     "metadata": {},
     "output_type": "execute_result"
    }
   ],
   "source": [
    "print_results(search_df, dict_ada_grid, 20)"
   ]
  },
  {
   "cell_type": "code",
   "execution_count": 81,
   "metadata": {
    "id": "HCRcrIJMnVSk"
   },
   "outputs": [],
   "source": [
    "dict_ada_selected = { 'base_estimator': [ RandomForestClassifier()  ],\n",
    "                      'n_estimators':   [ 5                         ],\n",
    "                      'learning_rate':  [ 0.1                       ],\n",
    "                      'algorithm':      [ 'SAMME'                   ]\n",
    "                     }"
   ]
  },
  {
   "cell_type": "markdown",
   "metadata": {
    "id": "Qb_jtiMYTMGw"
   },
   "source": [
    "### Gradient Boosting Classifier"
   ]
  },
  {
   "cell_type": "code",
   "execution_count": 82,
   "metadata": {
    "id": "bOnJ6mqNTVkr"
   },
   "outputs": [],
   "source": [
    "# generamos un diccionario para realizar una búsqueda en grilla probando unicamente distintos valores\n",
    "# de tasa de aprendizaje cercanos a su valor por defecto (0.1), el cuál genero un buen desempeño en la prueba \n",
    "# anterior para evitar tiempos de ejecución muy elevados\n",
    "dict_grad_grid = {'learning_rate':  [ 0.05   , 0.1 , 0.15]\n",
    "                  }"
   ]
  },
  {
   "cell_type": "code",
   "execution_count": 83,
   "metadata": {
    "id": "_UjM5JnUV-ZF"
   },
   "outputs": [],
   "source": [
    "model     = GradientBoostingClassifier(random_state=42)\n",
    "clf       = GridSearchCV(model, dict_grad_grid, scoring='accuracy', cv=2)\n",
    "search    = clf.fit(X_train, y_train)\n",
    "search_df = pd.DataFrame(search.cv_results_)"
   ]
  },
  {
   "cell_type": "code",
   "execution_count": 84,
   "metadata": {
    "colab": {
     "base_uri": "https://localhost:8080/",
     "height": 143
    },
    "id": "3TggroBMWa28",
    "outputId": "44c7c86f-9729-4d19-c9ce-517132ccc10e"
   },
   "outputs": [
    {
     "data": {
      "text/html": [
       "<div>\n",
       "<style scoped>\n",
       "    .dataframe tbody tr th:only-of-type {\n",
       "        vertical-align: middle;\n",
       "    }\n",
       "\n",
       "    .dataframe tbody tr th {\n",
       "        vertical-align: top;\n",
       "    }\n",
       "\n",
       "    .dataframe thead th {\n",
       "        text-align: right;\n",
       "    }\n",
       "</style>\n",
       "<table border=\"1\" class=\"dataframe\">\n",
       "  <thead>\n",
       "    <tr style=\"text-align: right;\">\n",
       "      <th></th>\n",
       "      <th>rank_test_score</th>\n",
       "      <th>mean_test_score</th>\n",
       "      <th>param_learning_rate</th>\n",
       "    </tr>\n",
       "  </thead>\n",
       "  <tbody>\n",
       "    <tr>\n",
       "      <th>1</th>\n",
       "      <td>1</td>\n",
       "      <td>0.692178</td>\n",
       "      <td>0.1</td>\n",
       "    </tr>\n",
       "    <tr>\n",
       "      <th>0</th>\n",
       "      <td>2</td>\n",
       "      <td>0.677856</td>\n",
       "      <td>0.05</td>\n",
       "    </tr>\n",
       "    <tr>\n",
       "      <th>2</th>\n",
       "      <td>3</td>\n",
       "      <td>0.677366</td>\n",
       "      <td>0.15</td>\n",
       "    </tr>\n",
       "  </tbody>\n",
       "</table>\n",
       "</div>"
      ],
      "text/plain": [
       "   rank_test_score  mean_test_score param_learning_rate\n",
       "1                1         0.692178                 0.1\n",
       "0                2         0.677856                0.05\n",
       "2                3         0.677366                0.15"
      ]
     },
     "execution_count": 84,
     "metadata": {},
     "output_type": "execute_result"
    }
   ],
   "source": [
    "print_results(search_df, dict_grad_grid)"
   ]
  },
  {
   "cell_type": "markdown",
   "metadata": {
    "id": "5xITLw1BJyU_"
   },
   "source": [
    "### PARTE 4: Voting\n",
    "### Generamos un modelo mediante VotingClassifier con los parámetros optimizados de los modelos anteriores"
   ]
  },
  {
   "cell_type": "code",
   "execution_count": 85,
   "metadata": {
    "colab": {
     "base_uri": "https://localhost:8080/",
     "height": 35
    },
    "id": "IcEVaAVF2UOX",
    "outputId": "fadf455e-8fec-4802-b622-43e63988bd83"
   },
   "outputs": [
    {
     "data": {
      "text/plain": [
       "0.32284051917052065"
      ]
     },
     "execution_count": 85,
     "metadata": {},
     "output_type": "execute_result"
    }
   ],
   "source": [
    "model   =       KNeighborsClassifier(n_neighbors=150, weights='distance',  p=1)\n",
    "clf_1   =       model.fit(X_train, y_train)\n",
    "y_pred1 =       clf_1.predict(X_valid)\n",
    "acc1     =       accuracy_score(y_valid, y_pred1)\n",
    "acc1"
   ]
  },
  {
   "cell_type": "code",
   "execution_count": 86,
   "metadata": {
    "colab": {
     "base_uri": "https://localhost:8080/",
     "height": 35
    },
    "id": "YrPdXZhWzjQC",
    "outputId": "e1150701-24bb-43a8-a990-70e072a66237"
   },
   "outputs": [
    {
     "data": {
      "text/plain": [
       "0.692774379631011"
      ]
     },
     "execution_count": 86,
     "metadata": {},
     "output_type": "execute_result"
    }
   ],
   "source": [
    "model   =   RandomForestClassifier(n_estimators=100, max_features=0.5, \n",
    "                                   class_weight='balanced_subsample')\n",
    "clf_2   =   model.fit(X_train, y_train)\n",
    "y_pred2 =   clf_2.predict(X_valid)\n",
    "acc2    =   accuracy_score(y_valid, y_pred2)\n",
    "acc2"
   ]
  },
  {
   "cell_type": "code",
   "execution_count": 87,
   "metadata": {
    "colab": {
     "base_uri": "https://localhost:8080/",
     "height": 35
    },
    "id": "d8-YnTvY6Hky",
    "outputId": "2732c481-af5d-43ec-dea6-5290c4bfb0dd"
   },
   "outputs": [
    {
     "data": {
      "text/plain": [
       "0.1861355611915063"
      ]
     },
     "execution_count": 87,
     "metadata": {},
     "output_type": "execute_result"
    }
   ],
   "source": [
    "model   =   GaussianNB(var_smoothing=1e-10)\n",
    "clf_3   =   model.fit(X_train, y_train)\n",
    "y_pred3 =   clf_3.predict(X_valid)\n",
    "acc3    =   accuracy_score(y_valid, y_pred3)\n",
    "acc3"
   ]
  },
  {
   "cell_type": "code",
   "execution_count": 88,
   "metadata": {
    "colab": {
     "base_uri": "https://localhost:8080/",
     "height": 35
    },
    "id": "mDcVJYXJLZs0",
    "outputId": "190c0a9c-644a-444e-b96c-cea6f160b8f2"
   },
   "outputs": [
    {
     "data": {
      "text/plain": [
       "0.7030682778855238"
      ]
     },
     "execution_count": 88,
     "metadata": {},
     "output_type": "execute_result"
    }
   ],
   "source": [
    "model   =   AdaBoostClassifier(base_estimator=RandomForestClassifier(),\n",
    "                               n_estimators=5, learning_rate=0.1, algorithm='SAMME.R', random_state=42)\n",
    "clf_4   =   model.fit(X_train, y_train)\n",
    "y_pred4 =   clf_4.predict(X_valid)\n",
    "acc4     =   accuracy_score(y_valid, y_pred4)\n",
    "acc4"
   ]
  },
  {
   "cell_type": "code",
   "execution_count": 89,
   "metadata": {
    "colab": {
     "base_uri": "https://localhost:8080/",
     "height": 35
    },
    "id": "3WBfE4l97xKI",
    "outputId": "9f51a4ad-e468-4c6a-815a-4d2874b84937"
   },
   "outputs": [
    {
     "data": {
      "text/plain": [
       "0.7010791188025263"
      ]
     },
     "execution_count": 89,
     "metadata": {},
     "output_type": "execute_result"
    }
   ],
   "source": [
    "# Generamos un modelo mediante VotingClassifier con los parámetros optimizados de los modelos anteriores\n",
    "# y realizamos la predicción mediante la votación \"hard\" ajustando los pesos del voto según la comparación\n",
    "# de los porcentajes de accuracy obtenidos en cada modelo\n",
    "acc_total = acc1 + acc2 + acc3 + acc4\n",
    "model     =   VotingClassifier(estimators=[('f1', clf_1),\n",
    "                                           ('f2', clf_2),\n",
    "                                           ('f3', clf_3),\n",
    "                                           ('f4', clf_4),\n",
    "                                           ],\n",
    "                               voting='hard', weights=[acc1/acc_total,\n",
    "                                                       acc2/acc_total,\n",
    "                                                       acc3/acc_total,\n",
    "                                                       acc4/acc_total])\n",
    "clf_v     =   model.fit(X_train, y_train)\n",
    "y_pred_v  =   clf_v.predict(X_valid)\n",
    "acc =         accuracy_score(y_valid, y_pred_v)\n",
    "acc"
   ]
  },
  {
   "cell_type": "markdown",
   "metadata": {
    "id": "ZCrcyPoHY5qx"
   },
   "source": [
    "### PARTE 5: Generacion del archivo para ser subido a Kaggle"
   ]
  },
  {
   "cell_type": "code",
   "execution_count": 92,
   "metadata": {
    "id": "cjvC97nz0N-H"
   },
   "outputs": [],
   "source": [
    "yy =         clf_v.predict(XX)\n",
    "submission = pd.DataFrame(list(zip(XX.VisitNumber, yy)), \n",
    "                          columns=[\"VisitNumber\", \"TripType\"])\n",
    "submission.to_csv('tp_AS_basmadjian_lucero.csv', header=True, index=False)"
   ]
  },
  {
   "cell_type": "code",
   "execution_count": 93,
   "metadata": {
    "colab": {
     "base_uri": "https://localhost:8080/",
     "height": 17
    },
    "id": "XbuiBfYGzSwl",
    "outputId": "176f605b-a2f4-4e86-a5f7-44d743c589c0"
   },
   "outputs": [],
   "source": [
    "#from google.colab import files\n",
    "#\n",
    "#files.download('tp_AS_basmadjian_lucero.csv')"
   ]
  }
 ],
 "metadata": {
  "colab": {
   "collapsed_sections": [
    "gj0TuDwDoZau",
    "zJjg4ZQWopl3",
    "GHd8pShppzLu",
    "VLjBFkIuqDNK",
    "1VD9NB0bE70l"
   ],
   "name": "tp_AS_forest_basmadjian_lucero_nuevo.ipynb",
   "provenance": []
  },
  "kernelspec": {
   "display_name": "Python 3",
   "language": "python",
   "name": "python3"
  },
  "language_info": {
   "codemirror_mode": {
    "name": "ipython",
    "version": 3
   },
   "file_extension": ".py",
   "mimetype": "text/x-python",
   "name": "python",
   "nbconvert_exporter": "python",
   "pygments_lexer": "ipython3",
   "version": "3.6.10"
  }
 },
 "nbformat": 4,
 "nbformat_minor": 1
}
